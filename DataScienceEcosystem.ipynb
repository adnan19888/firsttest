{
 "cells": [
  {
   "cell_type": "markdown",
   "id": "cc354890-283b-4a54-bfea-3a1305fa116f",
   "metadata": {
    "tags": []
   },
   "source": [
    "# Data Science Tools and Ecosystem"
   ]
  },
  {
   "cell_type": "code",
   "execution_count": null,
   "id": "2a355249-fca0-411b-b6fb-0bea19d452b4",
   "metadata": {
    "tags": []
   },
   "outputs": [],
   "source": [
    "## In this notebook, Data Science Tools and Ecosystem are summarized."
   ]
  },
  {
   "cell_type": "markdown",
   "id": "39cdf6e7-e759-4720-9d8d-2d1253730dac",
   "metadata": {
    "tags": []
   },
   "source": [
    "**Objectives**\n",
    "* List popular languages for Data Science:\n",
    "    * Python\n",
    "    * Java\n",
    "    * C++"
   ]
  },
  {
   "cell_type": "markdown",
   "id": "c8a8e2ce-2353-4f23-b08b-7cacb6103806",
   "metadata": {
    "tags": []
   },
   "source": [
    "## Some of the popular languages that Data Scientists use are:\n",
    "1. JAVA\n",
    "2. PYTHON\n",
    "3. R"
   ]
  },
  {
   "cell_type": "code",
   "execution_count": null,
   "id": "c41963b3-fec2-4793-a2c2-a1e8c285e308",
   "metadata": {
    "tags": []
   },
   "outputs": [],
   "source": [
    "## Some of the commonly used libraries used by Data Scientists include:\n",
    "1. Caffe2\n",
    "2. Pybrain\n",
    "3. Pytorch\n",
    "4. Tensorflow"
   ]
  },
  {
   "cell_type": "markdown",
   "id": "24589e71-0f2b-4aa7-ac18-a071d3d2c380",
   "metadata": {
    "tags": []
   },
   "source": [
    "| Data Science Tools |\n",
    "| --- |\n",
    "|Apache|\n",
    "|RSTUDIO|\n",
    "|TensorFlow|\n"
   ]
  },
  {
   "cell_type": "markdown",
   "id": "80524801-8c0b-4234-ab6c-567364d0d29e",
   "metadata": {
    "tags": []
   },
   "source": [
    "### Below are a few examples of evaluating arithmetic expressions in Python\n",
    "# Addition\n",
    "x = 3 + 4\n",
    "# Subtraction\n",
    "y = 4 - 3\n",
    "# Multiplication\n",
    "z = 4*3"
   ]
  },
  {
   "cell_type": "code",
   "execution_count": 4,
   "id": "884ab684-75cd-4d8b-a701-ffc84a13425b",
   "metadata": {
    "tags": []
   },
   "outputs": [
    {
     "name": "stdout",
     "output_type": "stream",
     "text": [
      "17\n"
     ]
    }
   ],
   "source": [
    "# This a simple arithmetic expression to mutiply then add integers\n",
    "x = (3*4) + 5\n",
    "print (x)"
   ]
  },
  {
   "cell_type": "code",
   "execution_count": 5,
   "id": "47711c66-950f-4dc2-b953-d4b3c6b7f057",
   "metadata": {
    "tags": []
   },
   "outputs": [
    {
     "name": "stdout",
     "output_type": "stream",
     "text": [
      "3.3333333333333335\n"
     ]
    }
   ],
   "source": [
    "# This will convert 200 minutes to hours by diving by 60\n",
    "hours = 200/60\n",
    "print(hours)\n"
   ]
  },
  {
   "cell_type": "markdown",
   "id": "5882d453-9386-46aa-8106-d13a4b2bb600",
   "metadata": {},
   "source": [
    "## Author is Adnan Ahmad Khan"
   ]
  },
  {
   "cell_type": "code",
   "execution_count": null,
   "id": "d19302ca-8b4f-45e9-8707-1a2d37144b06",
   "metadata": {},
   "outputs": [],
   "source": []
  }
 ],
 "metadata": {
  "kernelspec": {
   "display_name": "Python",
   "language": "python",
   "name": "conda-env-python-py"
  },
  "language_info": {
   "codemirror_mode": {
    "name": "ipython",
    "version": 3
   },
   "file_extension": ".py",
   "mimetype": "text/x-python",
   "name": "python",
   "nbconvert_exporter": "python",
   "pygments_lexer": "ipython3",
   "version": "3.7.12"
  }
 },
 "nbformat": 4,
 "nbformat_minor": 5
}
